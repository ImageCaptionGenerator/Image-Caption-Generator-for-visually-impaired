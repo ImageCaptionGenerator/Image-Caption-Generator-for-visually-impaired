{
 "cells": [
  {
   "cell_type": "code",
   "execution_count": 9,
   "id": "374f97e2",
   "metadata": {},
   "outputs": [],
   "source": [
    "import pandas as pd\n",
    "import numpy as np\n",
    "import matplotlib.pyplot as plt\n",
    "import keras\n",
    "import json\n",
    "import pickle\n",
    "from keras.applications.vgg16 import VGG16\n",
    "from tensorflow.keras.applications.resnet50 import ResNet50, preprocess_input, decode_predictions\n",
    "from keras.preprocessing import image\n",
    "from keras.models import Model, load_model\n",
    "from tensorflow.keras.preprocessing.sequence import pad_sequences\n",
    "from tensorflow.keras.utils import to_categorical\n",
    "from keras.layers import Input, Dense, Dropout, Embedding, LSTM\n",
    "from keras.layers import add"
   ]
  },
  {
   "cell_type": "code",
   "execution_count": 10,
   "id": "8eb2d7d5",
   "metadata": {},
   "outputs": [],
   "source": [
    "model = load_model(\"model_9.h5\")"
   ]
  },
  {
   "cell_type": "code",
   "execution_count": 11,
   "id": "33c47c91",
   "metadata": {},
   "outputs": [],
   "source": [
    "model_temp = ResNet50(weights=\"imagenet\",input_shape=(224,224,3))"
   ]
  },
  {
   "cell_type": "code",
   "execution_count": 12,
   "id": "3e766613",
   "metadata": {},
   "outputs": [],
   "source": [
    "#Create a new model, by removing the last layer (output layer of 1000 classes) from resnet50\n",
    "model_resnet = Model(model_temp.input,model_temp.layers[-2].output)"
   ]
  },
  {
   "cell_type": "code",
   "execution_count": 13,
   "id": "83ccf9d8",
   "metadata": {},
   "outputs": [],
   "source": [
    "import tensorflow as tf\n",
    "def preprocess_img(img):\n",
    "    img = tf.keras.utils.load_img(img,target_size=(224,224))\n",
    "    img = tf.keras.utils.img_to_array(img)\n",
    "    img = np.expand_dims(img,axis=0)\n",
    "    # Normalisation\n",
    "    img = preprocess_input(img)\n",
    "    return img"
   ]
  },
  {
   "cell_type": "code",
   "execution_count": 14,
   "id": "733953f6",
   "metadata": {},
   "outputs": [],
   "source": [
    "def encode_image(img):\n",
    "    img = preprocess_img(img)\n",
    "    feature_vector = model_resnet.predict(img)\n",
    "    \n",
    "    feature_vector = feature_vector.reshape(1, feature_vector.shape[1])\n",
    "    #print(feature_vector.shape)\n",
    "    return feature_vector"
   ]
  },
  {
   "cell_type": "code",
   "execution_count": 18,
   "id": "3b66d7b3",
   "metadata": {},
   "outputs": [
    {
     "name": "stdout",
     "output_type": "stream",
     "text": [
      "1/1 [==============================] - 0s 119ms/step\n"
     ]
    }
   ],
   "source": [
    "enc = encode_image(\"dog.jpg\")"
   ]
  },
  {
   "cell_type": "code",
   "execution_count": 19,
   "id": "0411d552",
   "metadata": {},
   "outputs": [
    {
     "data": {
      "text/plain": [
       "(1, 2048)"
      ]
     },
     "execution_count": 19,
     "metadata": {},
     "output_type": "execute_result"
    }
   ],
   "source": [
    "enc.shape"
   ]
  },
  {
   "cell_type": "code",
   "execution_count": 20,
   "id": "8298bfb3",
   "metadata": {},
   "outputs": [],
   "source": [
    "with open(\"C:/Users/yaksh/Downloads/project3/storage/word_to_idx.pkl\", \"rb\") as w2i:\n",
    "    word_to_idx = pickle.load(w2i)\n",
    "    \n",
    "with open(\"C:/Users/yaksh/Downloads/project3/storage/idx_to_word.pkl\", \"rb\") as i2w:\n",
    "    idx_to_word = pickle.load(i2w)"
   ]
  },
  {
   "cell_type": "code",
   "execution_count": 21,
   "id": "3bdac8e6",
   "metadata": {},
   "outputs": [],
   "source": [
    "def predict_caption(photo):\n",
    "    max_len=35\n",
    "    in_text = \"startseq\"\n",
    "    for i in range(max_len):\n",
    "        sequence = [word_to_idx[w] for w in in_text.split() if w in word_to_idx]\n",
    "        sequence = pad_sequences([sequence],maxlen=max_len,padding='post')\n",
    "        \n",
    "        ypred = model.predict([photo,sequence])\n",
    "        ypred = ypred.argmax() #WOrd with max prob always - Greedy Sampling\n",
    "        word = idx_to_word[ypred]\n",
    "        in_text += (' ' + word)\n",
    "        \n",
    "        if word == \"endseq\":\n",
    "            break\n",
    "    \n",
    "    final_caption = in_text.split()[1:-1]\n",
    "    final_caption = ' '.join(final_caption)\n",
    "    return final_caption"
   ]
  },
  {
   "cell_type": "code",
   "execution_count": 22,
   "id": "0f3cce8f",
   "metadata": {},
   "outputs": [
    {
     "name": "stdout",
     "output_type": "stream",
     "text": [
      "1/1 [==============================] - 0s 368ms/step\n",
      "1/1 [==============================] - 0s 33ms/step\n",
      "1/1 [==============================] - 0s 32ms/step\n",
      "1/1 [==============================] - 0s 32ms/step\n",
      "1/1 [==============================] - 0s 32ms/step\n",
      "1/1 [==============================] - 0s 31ms/step\n"
     ]
    },
    {
     "data": {
      "text/plain": [
       "'dog running in the sand'"
      ]
     },
     "execution_count": 22,
     "metadata": {},
     "output_type": "execute_result"
    }
   ],
   "source": [
    "predict_caption(enc)"
   ]
  },
  {
   "cell_type": "code",
   "execution_count": 23,
   "id": "e687ee42",
   "metadata": {},
   "outputs": [
    {
     "name": "stdout",
     "output_type": "stream",
     "text": [
      "1/1 [==============================] - 0s 32ms/step\n",
      "1/1 [==============================] - 0s 33ms/step\n",
      "1/1 [==============================] - 0s 30ms/step\n",
      "1/1 [==============================] - 0s 32ms/step\n",
      "1/1 [==============================] - 0s 31ms/step\n",
      "1/1 [==============================] - 0s 31ms/step\n"
     ]
    }
   ],
   "source": [
    "caption=predict_caption(enc)"
   ]
  },
  {
   "cell_type": "code",
   "execution_count": 24,
   "id": "a4a20cb8",
   "metadata": {},
   "outputs": [],
   "source": [
    "from gtts import gTTS\n",
    "import os"
   ]
  },
  {
   "cell_type": "code",
   "execution_count": 25,
   "id": "8b420be2",
   "metadata": {},
   "outputs": [],
   "source": [
    "tts = gTTS(text=caption,lang='en')\n",
    "tts.save(\"C://Users//yaksh//Downloads//project3//test.mp3\")"
   ]
  },
  {
   "cell_type": "code",
   "execution_count": 26,
   "id": "b055c4ff",
   "metadata": {},
   "outputs": [
    {
     "data": {
      "text/html": [
       "\n",
       "                <audio  controls=\"controls\" >\n",
       "                    <source src=\"data:audio/mpeg;base64,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\" type=\"audio/mpeg\" />\n",
       "                    Your browser does not support the audio element.\n",
       "                </audio>\n",
       "              "
      ],
      "text/plain": [
       "<IPython.lib.display.Audio object>"
      ]
     },
     "execution_count": 26,
     "metadata": {},
     "output_type": "execute_result"
    }
   ],
   "source": [
    "import IPython\n",
    "IPython.display.Audio(\"test.mp3\")"
   ]
  }
 ],
 "metadata": {
  "kernelspec": {
   "display_name": "Python 3.9.4 64-bit",
   "language": "python",
   "name": "python3"
  },
  "language_info": {
   "codemirror_mode": {
    "name": "ipython",
    "version": 3
   },
   "file_extension": ".py",
   "mimetype": "text/x-python",
   "name": "python",
   "nbconvert_exporter": "python",
   "pygments_lexer": "ipython3",
   "version": "3.9.4"
  },
  "vscode": {
   "interpreter": {
    "hash": "888fa02396718edb1a7515e66f91977c6bcb41c6edae987304b1af56ac428783"
   }
  }
 },
 "nbformat": 4,
 "nbformat_minor": 5
}
